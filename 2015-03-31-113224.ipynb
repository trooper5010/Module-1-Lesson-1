{
 "metadata": {
  "name": "",
  "signature": "sha256:4b10ef01e2c514bdde3c2beaa26c71b6a7f57691c09cd50ef8770070b34de253"
 },
 "nbformat": 3,
 "nbformat_minor": 0,
 "worksheets": [
  {
   "cells": [
    {
     "cell_type": "code",
     "collapsed": false,
     "input": [
      "%run phugoid.py\n",
      "%matplotlib inline"
     ],
     "language": "python",
     "metadata": {},
     "outputs": [],
     "prompt_number": 9
    },
    {
     "cell_type": "code",
     "collapsed": false,
     "input": [
      "#zt = 64, z = 16, theta = 0\n",
      "plot_flight_path(64, 16, 0)"
     ],
     "language": "python",
     "metadata": {},
     "outputs": []
    }
   ],
   "metadata": {}
  }
 ]
}